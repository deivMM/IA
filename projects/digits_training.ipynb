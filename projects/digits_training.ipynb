{
 "cells": [
  {
   "cell_type": "code",
   "execution_count": 2,
   "metadata": {},
   "outputs": [],
   "source": [
    "import os\n",
    "from PIL import Image\n",
    "import numpy as np\n",
    "import pandas as pd\n",
    "from matplotlib import pyplot as plt\n",
    "\n",
    "def plot_digit(dgts, tit = None):\n",
    "    f, ax = plt.subplots()\n",
    "    ax.imshow(dgts.reshape(30, 30),cmap='gray')\n",
    "    if tit: ax.set_title(tit)\n",
    "    plt.show()"
   ]
  },
  {
   "cell_type": "code",
   "execution_count": 7,
   "metadata": {},
   "outputs": [
    {
     "data": {
      "image/png": "[encoded data removed]",
      "text/plain": [
       "<Figure size 640x480 with 1 Axes>"
      ]
     },
     "metadata": {},
     "output_type": "display_data"
    }
   ],
   "source": [
    "def get_trainng_digits(path):\n",
    "    data = []\n",
    "    labels = []\n",
    "    digit_ns = [f for f in os.listdir(path)]\n",
    "    for n, digit_n in enumerate(digit_ns):\n",
    "        imagen_original = Image.open(os.path.join(path,digit_n))\n",
    "        imagen_redimensionada = imagen_original.resize((30, 30))\n",
    "        imagen_escala_de_grises = imagen_redimensionada.convert(\"L\")\n",
    "        datos_pixeles = list(imagen_escala_de_grises.getdata())\n",
    "        datos_pixeles_normalizados = [int(pixel / 255 * 15) for pixel in datos_pixeles]\n",
    "        data.append(datos_pixeles_normalizados)\n",
    "        labels.append(digit_n.split('_')[0])\n",
    "    return {'data': np.array(data), 'labels': labels}\n",
    "digits_path = '../data/digits'\n",
    "trainng_digits = get_trainng_digits(digits_path)\n",
    "\n",
    "plot_digit(trainng_digits['data'][0], tit = None)"
   ]
  },
  {
   "cell_type": "code",
   "execution_count": 4,
   "metadata": {},
   "outputs": [
    {
     "name": "stdout",
     "output_type": "stream",
     "text": [
      "Total data size: 87\n",
      "Training data size: 60\n",
      "Testing data size: 27\n",
      "              precision    recall  f1-score   support\n",
      "\n",
      "           0       1.00      1.00      1.00         6\n",
      "           1       1.00      0.89      0.94         9\n",
      "           2       1.00      1.00      1.00         9\n",
      "           3       0.75      1.00      0.86         3\n",
      "\n",
      "    accuracy                           0.96        27\n",
      "   macro avg       0.94      0.97      0.95        27\n",
      "weighted avg       0.97      0.96      0.96        27\n",
      "\n"
     ]
    }
   ],
   "source": [
    "from sklearn.ensemble import RandomForestClassifier\n",
    "from sklearn.model_selection import train_test_split\n",
    "import joblib\n",
    "\n",
    "Xtrain, Xtest, ytrain, ytest = train_test_split(trainng_digits['data'], trainng_digits['labels'], random_state=0, test_size=.3)\n",
    "\n",
    "print(f\"Total data size: {len(trainng_digits['data'])}\\nTraining data size: {len(ytrain)}\\nTesting data size: {len(ytest)}\")\n",
    "\n",
    "model = RandomForestClassifier(n_estimators=1000)\n",
    "model.fit(Xtrain, ytrain)\n",
    "ypred = model.predict(Xtest)\n",
    "\n",
    "from sklearn import metrics\n",
    "print(metrics.classification_report(ypred, ytest))"
   ]
  },
  {
   "cell_type": "code",
   "execution_count": 5,
   "metadata": {},
   "outputs": [
    {
     "data": {
      "image/png": "[encoded data removed]",
      "text/plain": [
       "<Figure size 640x480 with 1 Axes>"
      ]
     },
     "metadata": {},
     "output_type": "display_data"
    },
    {
     "data": {
      "text/plain": [
       "['digit_recognition_model.pkl']"
      ]
     },
     "execution_count": 5,
     "metadata": {},
     "output_type": "execute_result"
    }
   ],
   "source": [
    "from sklearn.metrics import confusion_matrix\n",
    "import seaborn as sns\n",
    "import numpy as np\n",
    "import matplotlib.pyplot as plt\n",
    "\n",
    "mat = confusion_matrix(ytest, ypred)\n",
    "mask = np.triu(np.ones_like(mat.T), k=1)\n",
    "\n",
    "sns.heatmap(mat.T, square=True, annot=True, fmt='d',cbar=False, cmap='Blues', mask=mask) \n",
    "plt.xlabel('true label')\n",
    "plt.ylabel('predicted label')\n",
    "plt.show()\n",
    "\n",
    "digit_incorrectos = np.where(ytest != ypred)[0]\n",
    "\n",
    "import joblib\n",
    "joblib.dump(model, 'digit_recognition_model.pkl')"
   ]
  },
  {
   "cell_type": "code",
   "execution_count": 28,
   "metadata": {},
   "outputs": [
    {
     "data": {
      "text/plain": [
       "'2'"
      ]
     },
     "execution_count": 28,
     "metadata": {},
     "output_type": "execute_result"
    }
   ],
   "source": [
    "loaded_model = joblib.load('digit_recognition_model.pkl')\n",
    "\n",
    "imagen_original = Image.open(os.path.join(digits_path,'valor_nuevo.png'))\n",
    "imagen_redimensionada = imagen_original.resize((30, 30))\n",
    "imagen_escala_de_grises = imagen_redimensionada.convert(\"L\")\n",
    "datos_pixeles = list(imagen_escala_de_grises.getdata())\n",
    "datos_pixeles_normalizados = [int(pixel / 255 * 15) for pixel in datos_pixeles]\n",
    "\n",
    "model.predict([datos_pixeles_normalizados])[0]"
   ]
  }
 ],
 "metadata": {
  "kernelspec": {
   "display_name": "base",
   "language": "python",
   "name": "python3"
  },
  "language_info": {
   "codemirror_mode": {
    "name": "ipython",
    "version": 3
   },
   "file_extension": ".py",
   "mimetype": "text/x-python",
   "name": "python",
   "nbconvert_exporter": "python",
   "pygments_lexer": "ipython3",
   "version": "3.11.5"
  }
 },
 "nbformat": 4,
 "nbformat_minor": 2
}
