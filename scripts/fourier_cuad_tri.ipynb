{
 "cells": [
  {
   "cell_type": "code",
   "execution_count": 2,
   "metadata": {
    "scrolled": true
   },
   "outputs": [
    {
     "data": {
      "application/vnd.jupyter.widget-view+json": {
       "model_id": "7599df9ee8a14564b38f845542802f16",
       "version_major": 2,
       "version_minor": 0
      },
      "text/plain": [
       "interactive(children=(IntSlider(value=10, description='m', max=200, min=1), Output()), _dom_classes=('widget-i…"
      ]
     },
     "execution_count": 2,
     "metadata": {},
     "output_type": "execute_result"
    }
   ],
   "source": [
    "import matplotlib\n",
    "import matplotlib.pyplot as plt\n",
    "import numpy as np\n",
    "from ipywidgets import interactive \n",
    "\n",
    "t1 = 1\n",
    "t1 = np.arange(-t1, t1, 0.01) # tiempo \n",
    "t2 = np.arange(-1.5, 2.5, 0.01) # tiempo \n",
    "T = 2 # periodo\n",
    "w = 2*np.pi/T # frecuencia\n",
    "\n",
    "def cal1(m):\n",
    "    summation = 0  # inicializacion del sumatorio\n",
    "    for i in range(1, m + 1):\n",
    "        summation += (2/(i*np.pi))*np.sin(i*np.pi/2)*np.cos(i*w*t1)\n",
    "    x = summation+0.5\n",
    "    return(x)\n",
    "\n",
    "def cal2(m):\n",
    "    summation = 0 \n",
    "    for i in range(1, m + 1):\n",
    "        summation += (2*np.sin(i*w*t2))/(i*np.pi)\n",
    "    x = summation+1\n",
    "    return(x)\n",
    "\n",
    "def plotting(m=10):\n",
    "    x1 = cal1(m)\n",
    "    x2 = cal2(m)\n",
    "    fig, ax = plt.subplots(1, 2,figsize = (12, 5))\n",
    "    ax[0].plot(t1, x1)\n",
    "    ax[0].plot([-1,-.5,-.5,.5,.5,1],[0,0,1,1,0,0],'r-.',linewidth=1.0)\n",
    "    ax[0].set_xticks([-1,0,1])\n",
    "    ax[0].set_yticks([0,.5,1])\n",
    "    ax[1].plot(t2, x2)\n",
    "    ax[1].plot([-1.5,0,0,2,2,2.5],[1.5,0,2,0,2,1.5],'r-.',linewidth=1.0)\n",
    "    ax[1].set_xticks([-1.5,0,2.5])\n",
    "    ax[1].set_yticks([0,1,2])\n",
    "    plt.show()\n",
    "\n",
    "int_plot = interactive(plotting,m=(1,200,1))\n",
    "int_plot\n"
   ]
  },
  {
   "cell_type": "code",
   "execution_count": null,
   "metadata": {},
   "outputs": [],
   "source": []
  }
 ],
 "metadata": {
  "kernelspec": {
   "display_name": "Python 3",
   "language": "python",
   "name": "python3"
  },
  "language_info": {
   "codemirror_mode": {
    "name": "ipython",
    "version": 3
   },
   "file_extension": ".py",
   "mimetype": "text/x-python",
   "name": "python",
   "nbconvert_exporter": "python",
   "pygments_lexer": "ipython3",
   "version": "3.8.5"
  }
 },
 "nbformat": 4,
 "nbformat_minor": 4
}
