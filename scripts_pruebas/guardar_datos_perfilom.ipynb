{
 "cells": [
  {
   "cell_type": "code",
   "execution_count": 1,
   "metadata": {},
   "outputs": [],
   "source": [
    "import socket\n",
    "import numpy as np\n",
    "import os\n",
    "import sys\n",
    "from matplotlib import pyplot as plt\n",
    "from matplotlib.animation import FuncAnimation\n",
    "from pickle import TRUE\n",
    "from scipy.interpolate import interp1d\n",
    "import math\n",
    "from scipy import linalg\n",
    "import pandas as pd\n",
    "from scipy.spatial.distance import cdist\n",
    "import time\n",
    "from datetime import timedelta\n",
    "from ctypes import*\n",
    "import platform\n",
    "from scipy.interpolate import pchip_interpolate\n",
    "import function_library as flib\n",
    "import time\n",
    "from scipy.optimize import minimize\n",
    "import geom_calc_library as gcalc\n",
    "import perf_module_david as pmd\n"
   ]
  },
  {
   "cell_type": "code",
   "execution_count": 90,
   "metadata": {},
   "outputs": [
    {
     "name": "stdout",
     "output_type": "stream",
     "text": [
      "Numero de perfiles: 1299\n",
      "El shape de la array es de: (20000, 3000, 3)\n",
      "1000\n"
     ]
    }
   ],
   "source": [
    "# XYZ = pmd.get_XYZ('L:/1_PROPUESTAS-OFERTAS-PROYECTOS/220060_GARAY SMART FACTORY/07_EXPERIMENTAL/01_Perfilometria_Laser/20240418_capturas/txt/20240418_z1_sop_1.txt')\n",
    "XYZ = pmd.get_XYZ('L:/1_PROPUESTAS-OFERTAS-PROYECTOS/220060_GARAY SMART FACTORY/07_EXPERIMENTAL/01_Perfilometria_Laser/20240418_capturas/txt/20240418_z2_escint.txt')\n",
    "# XYZ = pmd.get_XYZ('L:/1_PROPUESTAS-OFERTAS-PROYECTOS/220060_GARAY SMART FACTORY/07_EXPERIMENTAL/01_Perfilometria_Laser/20240118_Tubo_con_defectos_generados/00_RAW/Wenglor_log_2024_01_18-10_38_15.txt')\n",
    "\n",
    "\n",
    "def get_prof_xy_data(prof_n, XYZ):\n",
    "        points = XYZ[prof_n,:,[0,2]].T\n",
    "        return points[np.argsort(points[:, 0])]\n",
    "\n",
    "def filter_coordinates(array_coords, x_range, y_range):\n",
    "    x_mask  = np.logical_and(array_coords[:, 0] >= x_range[0], array_coords[:, 0] <= x_range[1])\n",
    "    y_mask  = np.logical_and(array_coords[:, 1] >= y_range[0], array_coords[:, 1] <= y_range[1])\n",
    "    total_mask = np.logical_and(x_mask, y_mask)\n",
    "    return array_coords[total_mask]\n",
    "\n",
    "\n",
    "save_l = []\n",
    "for prof in range(1000):\n",
    "    points = get_prof_xy_data(prof, XYZ)\n",
    "    points = points[~(points[:, 0] == 0) | ~(points[:, 1] == 0)]\n",
    "    if points.size > 0:\n",
    "        save_l.append(points)\n",
    "\n",
    "print(len(save_l))\n",
    "\n",
    "df_list = []\n",
    "for i, array in enumerate(save_l):\n",
    "    df = pd.DataFrame(array, columns=['X', 'Y'])\n",
    "    df['Array_ID'] = i  \n",
    "    df_list.append(df)\n",
    "\n",
    "df_total = pd.concat(df_list, ignore_index=True)\n",
    "\n",
    "df_total.to_csv('perfiles_4.csv', index=False)\n"
   ]
  },
  {
   "cell_type": "code",
   "execution_count": 89,
   "metadata": {},
   "outputs": [
    {
     "data": {
      "image/png": "[encoded data removed]",
      "text/plain": [
       "<Figure size 600x600 with 1 Axes>"
      ]
     },
     "metadata": {},
     "output_type": "display_data"
    }
   ],
   "source": [
    "df_recuperado = pd.read_csv('perfiles_4.csv')\n",
    "diccionario_recuperado = {i: group[['X', 'Y']].values for i, group in df_recuperado.groupby('Array_ID')}\n",
    "points = diccionario_recuperado[25]\n",
    "\n",
    "f,ax = plt.subplots(figsize=(6,6))\n",
    "ax.scatter(points[:,0], points[:,1], s = 1)\n",
    "ax.axis('equal')\n",
    "plt.show()\n"
   ]
  }
 ],
 "metadata": {
  "kernelspec": {
   "display_name": "base",
   "language": "python",
   "name": "python3"
  },
  "language_info": {
   "codemirror_mode": {
    "name": "ipython",
    "version": 3
   },
   "file_extension": ".py",
   "mimetype": "text/x-python",
   "name": "python",
   "nbconvert_exporter": "python",
   "pygments_lexer": "ipython3",
   "version": "3.11.5"
  }
 },
 "nbformat": 4,
 "nbformat_minor": 2
}
